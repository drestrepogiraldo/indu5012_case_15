{
 "cells": [
  {
   "cell_type": "markdown",
   "source": "# Case 15 - Linear and Quadratic Discriminant Analysis",
   "metadata": {
    "cell_id": "09908a1153104d8a96bcf272d66eee27",
    "tags": [],
    "deepnote_cell_type": "markdown",
    "deepnote_cell_height": 82
   }
  },
  {
   "cell_type": "markdown",
   "source": "## Business Problem",
   "metadata": {
    "cell_id": "2b1eab1b0265467ebbe9fd239c776eda",
    "tags": [],
    "deepnote_cell_type": "markdown",
    "deepnote_cell_height": 70
   }
  },
  {
   "cell_type": "markdown",
   "source": "You are an analyst at a Colombian EPS. This company has identified a lot of problems arising from people developing heart deseases. So, the company has decided to build a model capable of classifying the risk that a patient has of developing these deseases.",
   "metadata": {
    "cell_id": "c0f2febb66054633af8c0371dd234c52",
    "tags": [],
    "deepnote_cell_type": "markdown",
    "deepnote_cell_height": 74.78125
   }
  },
  {
   "cell_type": "markdown",
   "source": "### Packages Import",
   "metadata": {
    "cell_id": "f4fe42a3730048d9a38c14052a13bd36",
    "tags": [],
    "deepnote_cell_type": "markdown",
    "deepnote_cell_height": 62
   }
  },
  {
   "cell_type": "code",
   "metadata": {
    "cell_id": "64dd486ac99e4d3d8a6c7ee483bf9d2b",
    "tags": [],
    "deepnote_to_be_reexecuted": false,
    "source_hash": "9a528005",
    "execution_start": 1648671041876,
    "execution_millis": 5357,
    "deepnote_cell_type": "code",
    "deepnote_cell_height": 279
   },
   "source": "import pandas as pd\nimport numpy as np\n\nimport seaborn as sns\nimport matplotlib.pyplot as plt\n\nfrom sklearn.discriminant_analysis import LinearDiscriminantAnalysis\nfrom sklearn.discriminant_analysis import QuadraticDiscriminantAnalysis\nfrom sklearn.model_selection import cross_val_score\nfrom sklearn.model_selection import GridSearchCV\nfrom sklearn.metrics import roc_curve, auc\nfrom sklearn.metrics import  RocCurveDisplay",
   "execution_count": 1,
   "outputs": []
  },
  {
   "cell_type": "markdown",
   "source": "### Data Import\n\nThe information was downloaded from a dataset available [online](https://biolincc.nhlbi.nih.gov/studies/framcohort/).",
   "metadata": {
    "cell_id": "6545ed47792b4004aeef6b9b82d48f9e",
    "tags": [],
    "deepnote_cell_type": "markdown",
    "deepnote_cell_height": 100.390625
   }
  },
  {
   "cell_type": "code",
   "metadata": {
    "cell_id": "5ba28b952f6b42038cf6e75210697dbe",
    "tags": [],
    "deepnote_to_be_reexecuted": false,
    "source_hash": "8a52a5c2",
    "execution_start": 1648671047246,
    "execution_millis": 262,
    "deepnote_cell_type": "code",
    "deepnote_cell_height": 428
   },
   "source": "df_heart_disease = pd.read_csv(r'./data/framingham.csv')\ndf_heart_disease.head(5)",
   "execution_count": 2,
   "outputs": [
    {
     "output_type": "execute_result",
     "execution_count": 2,
     "data": {
      "application/vnd.deepnote.dataframe.v3+json": {
       "column_count": 16,
       "row_count": 5,
       "columns": [
        {
         "name": "male",
         "dtype": "int64",
         "stats": {
          "unique_count": 2,
          "nan_count": 0,
          "min": "0",
          "max": "1",
          "histogram": [
           {
            "bin_start": 0,
            "bin_end": 0.1,
            "count": 3
           },
           {
            "bin_start": 0.1,
            "bin_end": 0.2,
            "count": 0
           },
           {
            "bin_start": 0.2,
            "bin_end": 0.30000000000000004,
            "count": 0
           },
           {
            "bin_start": 0.30000000000000004,
            "bin_end": 0.4,
            "count": 0
           },
           {
            "bin_start": 0.4,
            "bin_end": 0.5,
            "count": 0
           },
           {
            "bin_start": 0.5,
            "bin_end": 0.6000000000000001,
            "count": 0
           },
           {
            "bin_start": 0.6000000000000001,
            "bin_end": 0.7000000000000001,
            "count": 0
           },
           {
            "bin_start": 0.7000000000000001,
            "bin_end": 0.8,
            "count": 0
           },
           {
            "bin_start": 0.8,
            "bin_end": 0.9,
            "count": 0
           },
           {
            "bin_start": 0.9,
            "bin_end": 1,
            "count": 2
           }
          ]
         }
        },
        {
         "name": "age",
         "dtype": "int64",
         "stats": {
          "unique_count": 4,
          "nan_count": 0,
          "min": "39",
          "max": "61",
          "histogram": [
           {
            "bin_start": 39,
            "bin_end": 41.2,
            "count": 1
           },
           {
            "bin_start": 41.2,
            "bin_end": 43.4,
            "count": 0
           },
           {
            "bin_start": 43.4,
            "bin_end": 45.6,
            "count": 0
           },
           {
            "bin_start": 45.6,
            "bin_end": 47.8,
            "count": 2
           },
           {
            "bin_start": 47.8,
            "bin_end": 50,
            "count": 1
           },
           {
            "bin_start": 50,
            "bin_end": 52.2,
            "count": 0
           },
           {
            "bin_start": 52.2,
            "bin_end": 54.400000000000006,
            "count": 0
           },
           {
            "bin_start": 54.400000000000006,
            "bin_end": 56.6,
            "count": 0
           },
           {
            "bin_start": 56.6,
            "bin_end": 58.8,
            "count": 0
           },
           {
            "bin_start": 58.8,
            "bin_end": 61,
            "count": 1
           }
          ]
         }
        },
        {
         "name": "education",
         "dtype": "float64",
         "stats": {
          "unique_count": 4,
          "nan_count": 0,
          "min": "1.0",
          "max": "4.0",
          "histogram": [
           {
            "bin_start": 1,
            "bin_end": 1.3,
            "count": 1
           },
           {
            "bin_start": 1.3,
            "bin_end": 1.6,
            "count": 0
           },
           {
            "bin_start": 1.6,
            "bin_end": 1.9,
            "count": 0
           },
           {
            "bin_start": 1.9,
            "bin_end": 2.2,
            "count": 1
           },
           {
            "bin_start": 2.2,
            "bin_end": 2.5,
            "count": 0
           },
           {
            "bin_start": 2.5,
            "bin_end": 2.8,
            "count": 0
           },
           {
            "bin_start": 2.8,
            "bin_end": 3.1,
            "count": 2
           },
           {
            "bin_start": 3.1,
            "bin_end": 3.4,
            "count": 0
           },
           {
            "bin_start": 3.4,
            "bin_end": 3.6999999999999997,
            "count": 0
           },
           {
            "bin_start": 3.6999999999999997,
            "bin_end": 4,
            "count": 1
           }
          ]
         }
        },
        {
         "name": "currentSmoker",
         "dtype": "int64",
         "stats": {
          "unique_count": 2,
          "nan_count": 0,
          "min": "0",
          "max": "1",
          "histogram": [
           {
            "bin_start": 0,
            "bin_end": 0.1,
            "count": 2
           },
           {
            "bin_start": 0.1,
            "bin_end": 0.2,
            "count": 0
           },
           {
            "bin_start": 0.2,
            "bin_end": 0.30000000000000004,
            "count": 0
           },
           {
            "bin_start": 0.30000000000000004,
            "bin_end": 0.4,
            "count": 0
           },
           {
            "bin_start": 0.4,
            "bin_end": 0.5,
            "count": 0
           },
           {
            "bin_start": 0.5,
            "bin_end": 0.6000000000000001,
            "count": 0
           },
           {
            "bin_start": 0.6000000000000001,
            "bin_end": 0.7000000000000001,
            "count": 0
           },
           {
            "bin_start": 0.7000000000000001,
            "bin_end": 0.8,
            "count": 0
           },
           {
            "bin_start": 0.8,
            "bin_end": 0.9,
            "count": 0
           },
           {
            "bin_start": 0.9,
            "bin_end": 1,
            "count": 3
           }
          ]
         }
        },
        {
         "name": "cigsPerDay",
         "dtype": "float64",
         "stats": {
          "unique_count": 4,
          "nan_count": 0,
          "min": "0.0",
          "max": "30.0",
          "histogram": [
           {
            "bin_start": 0,
            "bin_end": 3,
            "count": 2
           },
           {
            "bin_start": 3,
            "bin_end": 6,
            "count": 0
           },
           {
            "bin_start": 6,
            "bin_end": 9,
            "count": 0
           },
           {
            "bin_start": 9,
            "bin_end": 12,
            "count": 0
           },
           {
            "bin_start": 12,
            "bin_end": 15,
            "count": 0
           },
           {
            "bin_start": 15,
            "bin_end": 18,
            "count": 0
           },
           {
            "bin_start": 18,
            "bin_end": 21,
            "count": 1
           },
           {
            "bin_start": 21,
            "bin_end": 24,
            "count": 1
           },
           {
            "bin_start": 24,
            "bin_end": 27,
            "count": 0
           },
           {
            "bin_start": 27,
            "bin_end": 30,
            "count": 1
           }
          ]
         }
        },
        {
         "name": "BPMeds",
         "dtype": "float64",
         "stats": {
          "unique_count": 1,
          "nan_count": 0,
          "min": "0.0",
          "max": "0.0",
          "histogram": [
           {
            "bin_start": -0.5,
            "bin_end": -0.4,
            "count": 0
           },
           {
            "bin_start": -0.4,
            "bin_end": -0.3,
            "count": 0
           },
           {
            "bin_start": -0.3,
            "bin_end": -0.19999999999999996,
            "count": 0
           },
           {
            "bin_start": -0.19999999999999996,
            "bin_end": -0.09999999999999998,
            "count": 0
           },
           {
            "bin_start": -0.09999999999999998,
            "bin_end": 0,
            "count": 0
           },
           {
            "bin_start": 0,
            "bin_end": 0.10000000000000009,
            "count": 5
           },
           {
            "bin_start": 0.10000000000000009,
            "bin_end": 0.20000000000000007,
            "count": 0
           },
           {
            "bin_start": 0.20000000000000007,
            "bin_end": 0.30000000000000004,
            "count": 0
           },
           {
            "bin_start": 0.30000000000000004,
            "bin_end": 0.4,
            "count": 0
           },
           {
            "bin_start": 0.4,
            "bin_end": 0.5,
            "count": 0
           }
          ]
         }
        },
        {
         "name": "prevalentStroke",
         "dtype": "int64",
         "stats": {
          "unique_count": 1,
          "nan_count": 0,
          "min": "0",
          "max": "0",
          "histogram": [
           {
            "bin_start": -0.5,
            "bin_end": -0.4,
            "count": 0
           },
           {
            "bin_start": -0.4,
            "bin_end": -0.3,
            "count": 0
           },
           {
            "bin_start": -0.3,
            "bin_end": -0.19999999999999996,
            "count": 0
           },
           {
            "bin_start": -0.19999999999999996,
            "bin_end": -0.09999999999999998,
            "count": 0
           },
           {
            "bin_start": -0.09999999999999998,
            "bin_end": 0,
            "count": 0
           },
           {
            "bin_start": 0,
            "bin_end": 0.10000000000000009,
            "count": 5
           },
           {
            "bin_start": 0.10000000000000009,
            "bin_end": 0.20000000000000007,
            "count": 0
           },
           {
            "bin_start": 0.20000000000000007,
            "bin_end": 0.30000000000000004,
            "count": 0
           },
           {
            "bin_start": 0.30000000000000004,
            "bin_end": 0.4,
            "count": 0
           },
           {
            "bin_start": 0.4,
            "bin_end": 0.5,
            "count": 0
           }
          ]
         }
        },
        {
         "name": "prevalentHyp",
         "dtype": "int64",
         "stats": {
          "unique_count": 2,
          "nan_count": 0,
          "min": "0",
          "max": "1",
          "histogram": [
           {
            "bin_start": 0,
            "bin_end": 0.1,
            "count": 4
           },
           {
            "bin_start": 0.1,
            "bin_end": 0.2,
            "count": 0
           },
           {
            "bin_start": 0.2,
            "bin_end": 0.30000000000000004,
            "count": 0
           },
           {
            "bin_start": 0.30000000000000004,
            "bin_end": 0.4,
            "count": 0
           },
           {
            "bin_start": 0.4,
            "bin_end": 0.5,
            "count": 0
           },
           {
            "bin_start": 0.5,
            "bin_end": 0.6000000000000001,
            "count": 0
           },
           {
            "bin_start": 0.6000000000000001,
            "bin_end": 0.7000000000000001,
            "count": 0
           },
           {
            "bin_start": 0.7000000000000001,
            "bin_end": 0.8,
            "count": 0
           },
           {
            "bin_start": 0.8,
            "bin_end": 0.9,
            "count": 0
           },
           {
            "bin_start": 0.9,
            "bin_end": 1,
            "count": 1
           }
          ]
         }
        },
        {
         "name": "diabetes",
         "dtype": "int64",
         "stats": {
          "unique_count": 1,
          "nan_count": 0,
          "min": "0",
          "max": "0",
          "histogram": [
           {
            "bin_start": -0.5,
            "bin_end": -0.4,
            "count": 0
           },
           {
            "bin_start": -0.4,
            "bin_end": -0.3,
            "count": 0
           },
           {
            "bin_start": -0.3,
            "bin_end": -0.19999999999999996,
            "count": 0
           },
           {
            "bin_start": -0.19999999999999996,
            "bin_end": -0.09999999999999998,
            "count": 0
           },
           {
            "bin_start": -0.09999999999999998,
            "bin_end": 0,
            "count": 0
           },
           {
            "bin_start": 0,
            "bin_end": 0.10000000000000009,
            "count": 5
           },
           {
            "bin_start": 0.10000000000000009,
            "bin_end": 0.20000000000000007,
            "count": 0
           },
           {
            "bin_start": 0.20000000000000007,
            "bin_end": 0.30000000000000004,
            "count": 0
           },
           {
            "bin_start": 0.30000000000000004,
            "bin_end": 0.4,
            "count": 0
           },
           {
            "bin_start": 0.4,
            "bin_end": 0.5,
            "count": 0
           }
          ]
         }
        },
        {
         "name": "totChol",
         "dtype": "float64",
         "stats": {
          "unique_count": 5,
          "nan_count": 0,
          "min": "195.0",
          "max": "285.0",
          "histogram": [
           {
            "bin_start": 195,
            "bin_end": 204,
            "count": 1
           },
           {
            "bin_start": 204,
            "bin_end": 213,
            "count": 0
           },
           {
            "bin_start": 213,
            "bin_end": 222,
            "count": 0
           },
           {
            "bin_start": 222,
            "bin_end": 231,
            "count": 1
           },
           {
            "bin_start": 231,
            "bin_end": 240,
            "count": 0
           },
           {
            "bin_start": 240,
            "bin_end": 249,
            "count": 1
           },
           {
            "bin_start": 249,
            "bin_end": 258,
            "count": 1
           },
           {
            "bin_start": 258,
            "bin_end": 267,
            "count": 0
           },
           {
            "bin_start": 267,
            "bin_end": 276,
            "count": 0
           },
           {
            "bin_start": 276,
            "bin_end": 285,
            "count": 1
           }
          ]
         }
        },
        {
         "name": "sysBP",
         "dtype": "float64",
         "stats": {
          "unique_count": 5,
          "nan_count": 0,
          "min": "106.0",
          "max": "150.0",
          "histogram": [
           {
            "bin_start": 106,
            "bin_end": 110.4,
            "count": 1
           },
           {
            "bin_start": 110.4,
            "bin_end": 114.8,
            "count": 0
           },
           {
            "bin_start": 114.8,
            "bin_end": 119.2,
            "count": 0
           },
           {
            "bin_start": 119.2,
            "bin_end": 123.6,
            "count": 1
           },
           {
            "bin_start": 123.6,
            "bin_end": 128,
            "count": 1
           },
           {
            "bin_start": 128,
            "bin_end": 132.4,
            "count": 1
           },
           {
            "bin_start": 132.4,
            "bin_end": 136.8,
            "count": 0
           },
           {
            "bin_start": 136.8,
            "bin_end": 141.2,
            "count": 0
           },
           {
            "bin_start": 141.2,
            "bin_end": 145.6,
            "count": 0
           },
           {
            "bin_start": 145.6,
            "bin_end": 150,
            "count": 1
           }
          ]
         }
        },
        {
         "name": "diaBP",
         "dtype": "float64",
         "stats": {
          "unique_count": 5,
          "nan_count": 0,
          "min": "70.0",
          "max": "95.0",
          "histogram": [
           {
            "bin_start": 70,
            "bin_end": 72.5,
            "count": 1
           },
           {
            "bin_start": 72.5,
            "bin_end": 75,
            "count": 0
           },
           {
            "bin_start": 75,
            "bin_end": 77.5,
            "count": 0
           },
           {
            "bin_start": 77.5,
            "bin_end": 80,
            "count": 0
           },
           {
            "bin_start": 80,
            "bin_end": 82.5,
            "count": 2
           },
           {
            "bin_start": 82.5,
            "bin_end": 85,
            "count": 1
           },
           {
            "bin_start": 85,
            "bin_end": 87.5,
            "count": 0
           },
           {
            "bin_start": 87.5,
            "bin_end": 90,
            "count": 0
           },
           {
            "bin_start": 90,
            "bin_end": 92.5,
            "count": 0
           },
           {
            "bin_start": 92.5,
            "bin_end": 95,
            "count": 1
           }
          ]
         }
        },
        {
         "name": "BMI",
         "dtype": "float64",
         "stats": {
          "unique_count": 5,
          "nan_count": 0,
          "min": "23.1",
          "max": "28.73",
          "histogram": [
           {
            "bin_start": 23.1,
            "bin_end": 23.663,
            "count": 1
           },
           {
            "bin_start": 23.663,
            "bin_end": 24.226000000000003,
            "count": 0
           },
           {
            "bin_start": 24.226000000000003,
            "bin_end": 24.789,
            "count": 0
           },
           {
            "bin_start": 24.789,
            "bin_end": 25.352,
            "count": 1
           },
           {
            "bin_start": 25.352,
            "bin_end": 25.915,
            "count": 0
           },
           {
            "bin_start": 25.915,
            "bin_end": 26.478,
            "count": 0
           },
           {
            "bin_start": 26.478,
            "bin_end": 27.041,
            "count": 1
           },
           {
            "bin_start": 27.041,
            "bin_end": 27.604,
            "count": 0
           },
           {
            "bin_start": 27.604,
            "bin_end": 28.167,
            "count": 0
           },
           {
            "bin_start": 28.167,
            "bin_end": 28.73,
            "count": 2
           }
          ]
         }
        },
        {
         "name": "heartRate",
         "dtype": "float64",
         "stats": {
          "unique_count": 5,
          "nan_count": 0,
          "min": "65.0",
          "max": "95.0",
          "histogram": [
           {
            "bin_start": 65,
            "bin_end": 68,
            "count": 1
           },
           {
            "bin_start": 68,
            "bin_end": 71,
            "count": 0
           },
           {
            "bin_start": 71,
            "bin_end": 74,
            "count": 0
           },
           {
            "bin_start": 74,
            "bin_end": 77,
            "count": 1
           },
           {
            "bin_start": 77,
            "bin_end": 80,
            "count": 0
           },
           {
            "bin_start": 80,
            "bin_end": 83,
            "count": 1
           },
           {
            "bin_start": 83,
            "bin_end": 86,
            "count": 1
           },
           {
            "bin_start": 86,
            "bin_end": 89,
            "count": 0
           },
           {
            "bin_start": 89,
            "bin_end": 92,
            "count": 0
           },
           {
            "bin_start": 92,
            "bin_end": 95,
            "count": 1
           }
          ]
         }
        },
        {
         "name": "glucose",
         "dtype": "float64",
         "stats": {
          "unique_count": 5,
          "nan_count": 0,
          "min": "70.0",
          "max": "103.0",
          "histogram": [
           {
            "bin_start": 70,
            "bin_end": 73.3,
            "count": 1
           },
           {
            "bin_start": 73.3,
            "bin_end": 76.6,
            "count": 1
           },
           {
            "bin_start": 76.6,
            "bin_end": 79.9,
            "count": 1
           },
           {
            "bin_start": 79.9,
            "bin_end": 83.2,
            "count": 0
           },
           {
            "bin_start": 83.2,
            "bin_end": 86.5,
            "count": 1
           },
           {
            "bin_start": 86.5,
            "bin_end": 89.8,
            "count": 0
           },
           {
            "bin_start": 89.8,
            "bin_end": 93.1,
            "count": 0
           },
           {
            "bin_start": 93.1,
            "bin_end": 96.4,
            "count": 0
           },
           {
            "bin_start": 96.4,
            "bin_end": 99.7,
            "count": 0
           },
           {
            "bin_start": 99.7,
            "bin_end": 103,
            "count": 1
           }
          ]
         }
        },
        {
         "name": "TenYearCHD",
         "dtype": "int64",
         "stats": {
          "unique_count": 2,
          "nan_count": 0,
          "min": "0",
          "max": "1",
          "histogram": [
           {
            "bin_start": 0,
            "bin_end": 0.1,
            "count": 4
           },
           {
            "bin_start": 0.1,
            "bin_end": 0.2,
            "count": 0
           },
           {
            "bin_start": 0.2,
            "bin_end": 0.30000000000000004,
            "count": 0
           },
           {
            "bin_start": 0.30000000000000004,
            "bin_end": 0.4,
            "count": 0
           },
           {
            "bin_start": 0.4,
            "bin_end": 0.5,
            "count": 0
           },
           {
            "bin_start": 0.5,
            "bin_end": 0.6000000000000001,
            "count": 0
           },
           {
            "bin_start": 0.6000000000000001,
            "bin_end": 0.7000000000000001,
            "count": 0
           },
           {
            "bin_start": 0.7000000000000001,
            "bin_end": 0.8,
            "count": 0
           },
           {
            "bin_start": 0.8,
            "bin_end": 0.9,
            "count": 0
           },
           {
            "bin_start": 0.9,
            "bin_end": 1,
            "count": 1
           }
          ]
         }
        },
        {
         "name": "_deepnote_index_column",
         "dtype": "int64"
        }
       ],
       "rows": [
        {
         "male": 1,
         "age": 39,
         "education": 4,
         "currentSmoker": 0,
         "cigsPerDay": 0,
         "BPMeds": 0,
         "prevalentStroke": 0,
         "prevalentHyp": 0,
         "diabetes": 0,
         "totChol": 195,
         "sysBP": 106,
         "diaBP": 70,
         "BMI": 26.97,
         "heartRate": 80,
         "glucose": 77,
         "TenYearCHD": 0,
         "_deepnote_index_column": 0
        },
        {
         "male": 0,
         "age": 46,
         "education": 2,
         "currentSmoker": 0,
         "cigsPerDay": 0,
         "BPMeds": 0,
         "prevalentStroke": 0,
         "prevalentHyp": 0,
         "diabetes": 0,
         "totChol": 250,
         "sysBP": 121,
         "diaBP": 81,
         "BMI": 28.73,
         "heartRate": 95,
         "glucose": 76,
         "TenYearCHD": 0,
         "_deepnote_index_column": 1
        },
        {
         "male": 1,
         "age": 48,
         "education": 1,
         "currentSmoker": 1,
         "cigsPerDay": 20,
         "BPMeds": 0,
         "prevalentStroke": 0,
         "prevalentHyp": 0,
         "diabetes": 0,
         "totChol": 245,
         "sysBP": 127.5,
         "diaBP": 80,
         "BMI": 25.34,
         "heartRate": 75,
         "glucose": 70,
         "TenYearCHD": 0,
         "_deepnote_index_column": 2
        },
        {
         "male": 0,
         "age": 61,
         "education": 3,
         "currentSmoker": 1,
         "cigsPerDay": 30,
         "BPMeds": 0,
         "prevalentStroke": 0,
         "prevalentHyp": 1,
         "diabetes": 0,
         "totChol": 225,
         "sysBP": 150,
         "diaBP": 95,
         "BMI": 28.58,
         "heartRate": 65,
         "glucose": 103,
         "TenYearCHD": 1,
         "_deepnote_index_column": 3
        },
        {
         "male": 0,
         "age": 46,
         "education": 3,
         "currentSmoker": 1,
         "cigsPerDay": 23,
         "BPMeds": 0,
         "prevalentStroke": 0,
         "prevalentHyp": 0,
         "diabetes": 0,
         "totChol": 285,
         "sysBP": 130,
         "diaBP": 84,
         "BMI": 23.1,
         "heartRate": 85,
         "glucose": 85,
         "TenYearCHD": 0,
         "_deepnote_index_column": 4
        }
       ]
      },
      "text/plain": "   male  age  education  currentSmoker  cigsPerDay  BPMeds  prevalentStroke  \\\n0     1   39        4.0              0         0.0     0.0                0   \n1     0   46        2.0              0         0.0     0.0                0   \n2     1   48        1.0              1        20.0     0.0                0   \n3     0   61        3.0              1        30.0     0.0                0   \n4     0   46        3.0              1        23.0     0.0                0   \n\n   prevalentHyp  diabetes  totChol  sysBP  diaBP    BMI  heartRate  glucose  \\\n0             0         0    195.0  106.0   70.0  26.97       80.0     77.0   \n1             0         0    250.0  121.0   81.0  28.73       95.0     76.0   \n2             0         0    245.0  127.5   80.0  25.34       75.0     70.0   \n3             1         0    225.0  150.0   95.0  28.58       65.0    103.0   \n4             0         0    285.0  130.0   84.0  23.10       85.0     85.0   \n\n   TenYearCHD  \n0           0  \n1           0  \n2           0  \n3           1  \n4           0  ",
      "text/html": "<div>\n<style scoped>\n    .dataframe tbody tr th:only-of-type {\n        vertical-align: middle;\n    }\n\n    .dataframe tbody tr th {\n        vertical-align: top;\n    }\n\n    .dataframe thead th {\n        text-align: right;\n    }\n</style>\n<table border=\"1\" class=\"dataframe\">\n  <thead>\n    <tr style=\"text-align: right;\">\n      <th></th>\n      <th>male</th>\n      <th>age</th>\n      <th>education</th>\n      <th>currentSmoker</th>\n      <th>cigsPerDay</th>\n      <th>BPMeds</th>\n      <th>prevalentStroke</th>\n      <th>prevalentHyp</th>\n      <th>diabetes</th>\n      <th>totChol</th>\n      <th>sysBP</th>\n      <th>diaBP</th>\n      <th>BMI</th>\n      <th>heartRate</th>\n      <th>glucose</th>\n      <th>TenYearCHD</th>\n    </tr>\n  </thead>\n  <tbody>\n    <tr>\n      <th>0</th>\n      <td>1</td>\n      <td>39</td>\n      <td>4.0</td>\n      <td>0</td>\n      <td>0.0</td>\n      <td>0.0</td>\n      <td>0</td>\n      <td>0</td>\n      <td>0</td>\n      <td>195.0</td>\n      <td>106.0</td>\n      <td>70.0</td>\n      <td>26.97</td>\n      <td>80.0</td>\n      <td>77.0</td>\n      <td>0</td>\n    </tr>\n    <tr>\n      <th>1</th>\n      <td>0</td>\n      <td>46</td>\n      <td>2.0</td>\n      <td>0</td>\n      <td>0.0</td>\n      <td>0.0</td>\n      <td>0</td>\n      <td>0</td>\n      <td>0</td>\n      <td>250.0</td>\n      <td>121.0</td>\n      <td>81.0</td>\n      <td>28.73</td>\n      <td>95.0</td>\n      <td>76.0</td>\n      <td>0</td>\n    </tr>\n    <tr>\n      <th>2</th>\n      <td>1</td>\n      <td>48</td>\n      <td>1.0</td>\n      <td>1</td>\n      <td>20.0</td>\n      <td>0.0</td>\n      <td>0</td>\n      <td>0</td>\n      <td>0</td>\n      <td>245.0</td>\n      <td>127.5</td>\n      <td>80.0</td>\n      <td>25.34</td>\n      <td>75.0</td>\n      <td>70.0</td>\n      <td>0</td>\n    </tr>\n    <tr>\n      <th>3</th>\n      <td>0</td>\n      <td>61</td>\n      <td>3.0</td>\n      <td>1</td>\n      <td>30.0</td>\n      <td>0.0</td>\n      <td>0</td>\n      <td>1</td>\n      <td>0</td>\n      <td>225.0</td>\n      <td>150.0</td>\n      <td>95.0</td>\n      <td>28.58</td>\n      <td>65.0</td>\n      <td>103.0</td>\n      <td>1</td>\n    </tr>\n    <tr>\n      <th>4</th>\n      <td>0</td>\n      <td>46</td>\n      <td>3.0</td>\n      <td>1</td>\n      <td>23.0</td>\n      <td>0.0</td>\n      <td>0</td>\n      <td>0</td>\n      <td>0</td>\n      <td>285.0</td>\n      <td>130.0</td>\n      <td>84.0</td>\n      <td>23.10</td>\n      <td>85.0</td>\n      <td>85.0</td>\n      <td>0</td>\n    </tr>\n  </tbody>\n</table>\n</div>"
     },
     "metadata": {}
    }
   ]
  },
  {
   "cell_type": "markdown",
   "source": "### EDA and Data Cleaning",
   "metadata": {
    "cell_id": "72df0b7a92dd4b7692c22d8e1da2fe08",
    "tags": [],
    "deepnote_cell_type": "markdown",
    "deepnote_cell_height": 62
   }
  },
  {
   "cell_type": "code",
   "metadata": {
    "cell_id": "281f4ed7b35949b59e9d130f30ccbc85",
    "tags": [],
    "deepnote_to_be_reexecuted": false,
    "source_hash": "d170bead",
    "execution_start": 1648671047519,
    "execution_millis": 25,
    "deepnote_cell_type": "code",
    "deepnote_cell_height": 435.1875
   },
   "source": "print(df_heart_disease.isnull().sum())",
   "execution_count": 3,
   "outputs": [
    {
     "name": "stdout",
     "text": "male                 0\nage                  0\neducation          105\ncurrentSmoker        0\ncigsPerDay          29\nBPMeds              53\nprevalentStroke      0\nprevalentHyp         0\ndiabetes             0\ntotChol             50\nsysBP                0\ndiaBP                0\nBMI                 19\nheartRate            1\nglucose            388\nTenYearCHD           0\ndtype: int64\n",
     "output_type": "stream"
    }
   ]
  },
  {
   "cell_type": "code",
   "metadata": {
    "cell_id": "0704cbbec0bf413586a82149a6dcef8a",
    "tags": [],
    "deepnote_to_be_reexecuted": false,
    "source_hash": "2bb04b6c",
    "execution_start": 1648671047558,
    "execution_millis": 25,
    "deepnote_cell_type": "code",
    "deepnote_cell_height": 153
   },
   "source": "#Droping education column\ndf_heart_disease.drop(columns='education',inplace=True)\n\n#Droping the observations that have at least one missing value\ndf_heart_disease.dropna(axis=0,inplace=True)",
   "execution_count": 4,
   "outputs": []
  },
  {
   "cell_type": "code",
   "metadata": {
    "cell_id": "3a929e6426c84145b107d39a393feefc",
    "tags": [],
    "deepnote_to_be_reexecuted": false,
    "source_hash": "ad9b896d",
    "execution_start": 1648671047599,
    "execution_millis": 10964,
    "deepnote_cell_type": "code",
    "deepnote_cell_height": 4536,
    "deepnote_output_heights": [
     264,
     264,
     267,
     264,
     264,
     264,
     264,
     264,
     264,
     267,
     264,
     264,
     264,
     267,
     264
    ]
   },
   "source": "for column in df_heart_disease.columns:\n    sns.histplot(x= column,data = df_heart_disease)\n    plt.show()",
   "execution_count": 5,
   "outputs": [
    {
     "data": {
      "text/plain": "<Figure size 432x288 with 1 Axes>",
      "image/png": "[encoded data removed]"
     },
     "metadata": {
      "needs_background": "light",
      "image/png": {
       "width": 395,
       "height": 262
      }
     },
     "output_type": "display_data"
    },
    {
     "data": {
      "text/plain": "<Figure size 432x288 with 1 Axes>",
      "image/png": "[encoded data removed]"
     },
     "metadata": {
      "needs_background": "light",
      "image/png": {
       "width": 389,
       "height": 262
      }
     },
     "output_type": "display_data"
    },
    {
     "data": {
      "text/plain": "<Figure size 432x288 with 1 Axes>",
      "image/png": "[encoded data removed]"
     },
     "metadata": {
      "needs_background": "light",
      "image/png": {
       "width": 395,
       "height": 265
      }
     },
     "output_type": "display_data"
    },
    {
     "data": {
      "text/plain": "<Figure size 432x288 with 1 Axes>",
      "image/png": "[encoded data removed]"
     },
     "metadata": {
      "needs_background": "light",
      "image/png": {
       "width": 395,
       "height": 262
      }
     },
     "output_type": "display_data"
    },
    {
     "data": {
      "text/plain": "<Figure size 432x288 with 1 Axes>",
      "image/png": "[encoded data removed]"
     },
     "metadata": {
      "needs_background": "light",
      "image/png": {
       "width": 395,
       "height": 262
      }
     },
     "output_type": "display_data"
    },
    {
     "data": {
      "text/plain": "<Figure size 432x288 with 1 Axes>",
      "image/png": "[encoded data removed]"
     },
     "metadata": {
      "needs_background": "light",
      "image/png": {
       "width": 395,
       "height": 262
      }
     },
     "output_type": "display_data"
    },
    {
     "data": {
      "text/plain": "<Figure size 432x288 with 1 Axes>",
      "image/png": "[encoded data removed]"
     },
     "metadata": {
      "needs_background": "light",
      "image/png": {
       "width": 395,
       "height": 262
      }
     },
     "output_type": "display_data"
    },
    {
     "data": {
      "text/plain": "<Figure size 432x288 with 1 Axes>",
      "image/png": "[encoded data removed]"
     },
     "metadata": {
      "needs_background": "light",
      "image/png": {
       "width": 395,
       "height": 262
      }
     },
     "output_type": "display_data"
    },
    {
     "data": {
      "text/plain": "<Figure size 432x288 with 1 Axes>",
      "image/png": "[encoded data removed]"
     },
     "metadata": {
      "needs_background": "light",
      "image/png": {
       "width": 389,
       "height": 262
      }
     },
     "output_type": "display_data"
    },
    {
     "data": {
      "text/plain": "<Figure size 432x288 with 1 Axes>",
      "image/png": "[encoded data removed]"
     },
     "metadata": {
      "needs_background": "light",
      "image/png": {
       "width": 390,
       "height": 265
      }
     },
     "output_type": "display_data"
    },
    {
     "data": {
      "text/plain": "<Figure size 432x288 with 1 Axes>",
      "image/png": "[encoded data removed]"
     },
     "metadata": {
      "needs_background": "light",
      "image/png": {
       "width": 389,
       "height": 262
      }
     },
     "output_type": "display_data"
    },
    {
     "data": {
      "text/plain": "<Figure size 432x288 with 1 Axes>",
      "image/png": "[encoded data removed]"
     },
     "metadata": {
      "needs_background": "light",
      "image/png": {
       "width": 389,
       "height": 262
      }
     },
     "output_type": "display_data"
    },
    {
     "data": {
      "text/plain": "<Figure size 432x288 with 1 Axes>",
      "image/png": "[encoded data removed]"
     },
     "metadata": {
      "needs_background": "light",
      "image/png": {
       "width": 389,
       "height": 262
      }
     },
     "output_type": "display_data"
    },
    {
     "data": {
      "text/plain": "<Figure size 432x288 with 1 Axes>",
      "image/png": "[encoded data removed]"
     },
     "metadata": {
      "needs_background": "light",
      "image/png": {
       "width": 389,
       "height": 265
      }
     },
     "output_type": "display_data"
    },
    {
     "data": {
      "text/plain": "<Figure size 432x288 with 1 Axes>",
      "image/png": "[encoded data removed]"
     },
     "metadata": {
      "needs_background": "light",
      "image/png": {
       "width": 395,
       "height": 262
      }
     },
     "output_type": "display_data"
    }
   ]
  },
  {
   "cell_type": "markdown",
   "source": "### Train - Test Split",
   "metadata": {
    "cell_id": "d465911d7e594abba72a5a81ce002d9a",
    "tags": [],
    "deepnote_cell_type": "markdown",
    "deepnote_cell_height": 62
   }
  },
  {
   "cell_type": "code",
   "metadata": {
    "cell_id": "35ce1ee9bfe447b68c21e077335346f7",
    "tags": [],
    "deepnote_to_be_reexecuted": false,
    "source_hash": "489cdbc0",
    "execution_start": 1648671058565,
    "execution_millis": 15,
    "deepnote_cell_type": "code",
    "deepnote_cell_height": 330.375
   },
   "source": "#np.random.seed(1000000000) # a seed makes the analysis reproducible\n                     # so everyone will get the same results\nndata = len(df_heart_disease)\n# Randomly choose 0.8n indices between 1 and n\nidx_train = np.random.choice(range(ndata),int(0.8*ndata),replace=False)\n# The test set is comprised from all the indices that were\n# not selected in the training set:\nidx_test  = np.asarray(list(set(range(ndata)) - set(idx_train)))\ntrain     = df_heart_disease.iloc[idx_train] # the training data set\ntest      = df_heart_disease.iloc[idx_test]  # the test data set\nprint(train.shape) # \nprint(test.shape)  #  ",
   "execution_count": 6,
   "outputs": [
    {
     "name": "stdout",
     "text": "(2999, 15)\n(750, 15)\n",
     "output_type": "stream"
    }
   ]
  },
  {
   "cell_type": "code",
   "metadata": {
    "cell_id": "24ce2c6748f646e3884978ac3cfc3517",
    "tags": [],
    "deepnote_to_be_reexecuted": false,
    "source_hash": "fc4c0fe6",
    "execution_start": 1648671058607,
    "execution_millis": 23,
    "deepnote_cell_type": "code",
    "deepnote_cell_height": 153
   },
   "source": "X_train = train.drop(columns='TenYearCHD')\nY_train = train['TenYearCHD'] \n\nX_test = test.drop(columns='TenYearCHD')\nY_test = test['TenYearCHD'] ",
   "execution_count": 7,
   "outputs": []
  },
  {
   "cell_type": "markdown",
   "source": "## Linear Discriminan Analysis\n\nLogistic regression involves directly modeling $P(Y = k|X = x)$ using the logistic function. Therefore, with we model the conditional distribution of the response Y, given the predictor(s) X. Now, we can consider an alternative and less direct approach to estimating those probabilities. This new approach consists on modeling the distribution of the predictors X separately in each of the response classes (i.e. given Y), and then use Bayes’ theorem to flip these around into estimates for $P(Y = k|X = x)$. When these distributions are assumed to be normal, the model is very similar in form to logistic regression.\n\nBut, why do we need a method different than logistic regression?\n\nThere are multiple reasons:\n\n* When the classes are well-separated, the parameter estimates for the logistic regression model are surprisingly unstable. Linear discriminant analysis does not suffer from this problem.\n\n* If $n$ is small and the distribution of the predictors $X$ is approximately normal in each of the classes, the linear discriminant model is again more stable than the logistic regression model.\n\n* Linear discriminant analysis is popular when there are more than two response classes.",
   "metadata": {
    "cell_id": "052bbcd5a40a4e0eaac1ab11486183f8",
    "tags": [],
    "deepnote_cell_type": "markdown",
    "deepnote_cell_height": 349.515625
   }
  },
  {
   "cell_type": "markdown",
   "source": "### Bayes’ Theorem for Classification\n\nSuppose that we wish to classify an observation into one of $k$ classes, where $k$ ≥ 2. Let $\\pi_k$ represent the overall or prior probability that a randomly chosen observation comes from the $k^{th}$ class; this is the probability that a given observation is associated with the $k^{th}$ category of the response variable Y. Let $f_k(x) ≡ P(X = x|Y = k)$ denote the density function of $x$ for an observation that comes from the $k^{th}$ class. $f_k(x)$ is relatively large if there is a high probability that an observation in the $k^{th}$ class has $X ≈ x$, and $f_k(x)$ is small if it is very unlikely that an observation in the $k^{th}$ class has $X ≈ x$. Then, Bayes’ theorem states that: <center> $p_k(X)=P(Y = k|X = x) = \\frac{\\pi_kf_k(x)}{\\sum_{i=1}^K \\pi_if_i(x)}  $ </center>\n\nAccording to the above, instead of directly computing $p_k(X)=P(Y = k|X = x)$, we can simply plug in estimates of $\\pi_k$ and $f_k(X)$ into the previous formula. In general, estimating $\\pi_k$ is easy, if we have a random sample of\n$Y's$ from the population: just compute the fraction of the training observations that belong to the $k^{th}$ class. However, estimating $f_k(X)$ tends to be more challenging, unless some simple forms for these\ndensities are assumed.\n\nThe Bayes classifier, which classifies an observation to the class for which $p_k(X)$ is largest, has the lowest possible error rate out of all classifiers. Therefore, if we can find a way to estimate and correctly specify $f_k(X)$, then we can develop a classifier that approximates the Bayes classifier. Such an approach is the topic of the following sections.",
   "metadata": {
    "cell_id": "1b0ff8f4f4da41f3aa8263b869f0dd56",
    "tags": [],
    "deepnote_cell_type": "markdown",
    "deepnote_cell_height": 349.703125
   }
  },
  {
   "cell_type": "markdown",
   "source": "### Linear Discriminant Analysis with one predictor\n\nAssuming that the number of parameters (input variables) is 1, then we will classify an observation to the class\nfor which $p_k(x)$ is greatest. To do this, it is necessary to make an assumption about the form of $f_k(x)$ in order to estimate it. \n\nIf we assume that $f_k(x)$ is normal or Gaussian. In the one-dimensional setting, the normal density takes the form: <center> $f_k(x)=\\frac{1}{\\sqrt{2\\pi}\\sigma_k}\\text{exp}(\\frac{1}{2\\sigma^2_k}(x-\\mu_k)^2)$ </center>\n\nwhere $\\mu_k$ and $\\sigma_k$ are the mean and standard deviation of the parameter $x$ if the observation belong to the $k^{th}$ class. If we also assume that the variances for all of the $K$ classes are the same, $\\sigma_1=\\sigma_2=...=\\sigma_K= \\sigma$,then $p_k(x)$ can be expressed as follows: <center> $p_k(x)=\\frac{\\pi_k\\frac{1}{\\sqrt{2\\pi}\\sigma}\\text{exp}(\\frac{1}{2\\sigma^2}(x-\\mu_k)^2)}{\\sum_{i=1}^K\\pi_i\\frac{1}{\\sqrt{2\\pi}\\sigma}\\text{exp}(\\frac{1}{2\\sigma^2}(x-\\mu_i)^2)}$ </center>\n\nThe Bayes classifier involves assigning an observation $X = x$ to the class for which $p_k(X)$ is largest. Taking the log of the $p_k(X)$ defined above and rearranging the terms, it is not hard to show that this is equivalent to assigning the observation to the class for which <center> $\\delta_k(x) = x*\\frac{\\mu_k}{σ^2}-\\frac{\\mu_k^2}{2σ^2}+log(π_k)$ </center>\n\n is the largest. If there were only two classes, then the Bayes classifier would assign an observation to class 1 if $2x(\\mu_1-\\mu_2) > \\mu_1^2-\\mu_2^2$, and to class 2 otherwise. In this case, the Bayes decision boundary corresponds to the point where <center> $x= \\frac{\\mu_1^2-\\mu_2^2}{2(\\mu_1-\\mu_2)}=\\frac{\\mu_1+\\mu_2}{2}$  </center>\n\nTaking this into account, a Linear Discriminant Analysis model may look something like this: \n\n<figure>\n<img src=\"/work/indu5012_case_15/fig/LDA_p=1.PNG\" align=\"center\"/> \n\n<figcaption align = \"center\"><b>Fig. 15.1 - Linear discriminant analysis example. The left panel shows the distribution used to create the value of the input variables for two different classes. The panel on the right shows the distribution of 20 observations sampled from each of the two classes. The dashed vertical line is the LDA decision boundary </b>.<i>Taken from (James, G., Witten, D., Hastie, T., & Tibshirani, R. (2013))</i></figcaption>\n</figure> \n\nNow, in order to approximate the Bayes classifier, the linear discriminant analysis (LDA) model uses estimates for $\\pi_k$, $\\mu_k$ and $\\sigma$ in $p_k(x)$. The estimates used are the following: <center> $\\hat\\mu_k=\\frac{1}{n_k}\\sum_{i|y_i=k}x_i$ </center> <center> $\\hat\\sigma^2=\\frac{1}{n-K}\\sum_{k\\in K}\\sum_{i|y_i=k}(x_i-\\hat\\mu_k)^2$ </center> <center> $\\hat\\pi_k=\\frac{n_k}{n}$ </center>\n\nwhere $n_k$ are the number of observations that belong to the $k^{th}$ class. If there is prior knowledge about the probabilites of an observation being from a particular classs ($\\pi_k$), then it can be used instead of its estimates. With these estimates, now the LDA classifier will assign an observation $X=x$ as the class for which <center> $\\hat\\delta_k(x) = x*\\frac{\\hat\\mu_k}{\\hatσ^2}-\\frac{\\hat\\mu_k^2}{2\\hatσ^2}+log(\\hat\\pi_k)$ </center>\n\n is the largest. The word \"linear\" in the LDA’s name comes from the fact that the discriminant functions $\\hat\\delta_k(x)$ are linear functions of x, as opposed to a more complex function of x.\n",
   "metadata": {
    "cell_id": "be8ca11988da4b5ea58cf66b929dcbdf",
    "tags": [],
    "deepnote_cell_type": "markdown",
    "deepnote_cell_height": 1298.46875
   }
  },
  {
   "cell_type": "markdown",
   "source": "### Linear Discriminant Analysis with multiple predictors\n\nExtending the LDA to observations with multiple predictors $X=(X_1,X_2,\\dots,X_m)$. In this case, the assumption that will be made is that $X$ is drawn from a multivariate Gaussian (or multivariate Normal) distribution with class-specific mean vectors and with a common covariance matrix. The multivariate Gaussian distribution assumes that each individual predictor follows a one-dimensional Normal distribution, with some correlation between each pair of predictors. A graphic example for the probability density function for a bivariate Gaussian distribution can be seen in the following figure:\n\n<figure>\n<img src=\"/work/indu5012_case_15/fig/Multivariate_Gaussian.PNG\" align=\"center\"/> \n\n<figcaption align = \"center\"><b>Fig. 15.2 - Probability density function for a bivariate Gaussian distribution. The panel on the left shows the case in which both variables are uncorrelated. the panel on the right shows the case in which both variables have a correlation coefficient of 0.7 </b>.<i>Taken from (James, G., Witten, D., Hastie, T., & Tibshirani, R. (2013))</i></figcaption>\n\n</figure>\n\nTo indicate that a $m$-dimensional random variable has a multivariate Gaussian distribution, we write $X\\sim N(\\mu,\\Sigma)$, where $\\mu$ is a vector with $m$ components and $\\Sigma$ is a $m\\times m$ covaraince matrix. Formally, the probability density function for a multivariate Gaussian is as follows: <center> $f(x)=\\frac{1}{\\sqrt{(2\\pi)^m}|\\Sigma|^{1/2}}\\text{exp}(\\frac{1}{2}(x-\\mu)^T\\Sigma^{-1}(x-\\mu))$ </center>\n\nWhen there are more than 1 predictors, LDA assumes that predictors for observations that belong to the $k^{th}$ are drawn from a multivariate Gaussian $N(\\mu_k,\\Sigma)$, where $\\mu_k$ is a class-specific means vector, and $\\Sigma$ is the covariance matrix that is common for all of the classes. In similar fashion as in the single-predictor case, when plugging the probability density function of the multivariate Gaussian into the discrimamnt function, it is possible to show that the LDA will classify an observation $x$ as belonging to the class for which <center> $\\delta_k(x) = x^T\\Sigma^{-1}\\mu_k-\\frac{1}{2}\\mu_k^T\\Sigma^{-1}\\mu_k+log(\\pi_k)$ </center>\n\n is the largest. Then, the LDA will compute the required estimates in order to determine the estimate for the discriminant function and then use it in order to classify observations as belonging to the class with the highest estimated discriminant function. An example of a LDA model classification when there are two predictors can be seen below: \n\n <figure>\n<img src=\"/work/indu5012_case_15/fig/2_LDA.PNG\" align=\"center\"/> \n\n<figcaption align = \"center\"><b>Fig. 15.3 - Graphic representation of a LDA classifier for a three-class classification problem.  </b>.<i>Taken from (James, G., Witten, D., Hastie, T., & Tibshirani, R. (2013))</i></figcaption>\n\n</figure>",
   "metadata": {
    "cell_id": "8599a530ec2040e9b07dab022cbaacb1",
    "tags": [],
    "deepnote_cell_type": "markdown",
    "deepnote_cell_height": 1603.796875
   }
  },
  {
   "cell_type": "markdown",
   "source": "### LDA Model Definition and fitting",
   "metadata": {
    "cell_id": "a01d92ec6e46439e88c7286d04fe77c2",
    "tags": [],
    "deepnote_cell_type": "markdown",
    "deepnote_cell_height": 62
   }
  },
  {
   "cell_type": "code",
   "metadata": {
    "cell_id": "d26645d3493a4707ae8aeb5bc8fdbf70",
    "tags": [],
    "deepnote_to_be_reexecuted": false,
    "source_hash": "5d5f4115",
    "execution_start": 1648671058635,
    "execution_millis": 27,
    "deepnote_cell_type": "code",
    "deepnote_cell_height": 153
   },
   "source": "#Defining model\nlda = LinearDiscriminantAnalysis()\n\n#Fitting model\nlda_res = lda.fit(X_train, Y_train)",
   "execution_count": 8,
   "outputs": []
  },
  {
   "cell_type": "markdown",
   "source": "### LDA Model Validation",
   "metadata": {
    "cell_id": "7787ecd9f55740588a77533cced886e5",
    "tags": [],
    "deepnote_cell_type": "markdown",
    "deepnote_cell_height": 62
   }
  },
  {
   "cell_type": "code",
   "metadata": {
    "cell_id": "65c8a2d2ba8f4ef3b8ad76325cfe29ac",
    "tags": [],
    "deepnote_to_be_reexecuted": false,
    "source_hash": "380a34b9",
    "execution_start": 1648671058733,
    "execution_millis": 1617,
    "deepnote_cell_type": "code",
    "deepnote_cell_height": 297
   },
   "source": "#Obtaining scores from the model\nscores = cross_val_score(lda, X_train, Y_train, cv=10, scoring='accuracy')\nprint(\"Accuracy: \",scores.mean())\n\nscores = cross_val_score(lda, X_train, Y_train, cv=10, scoring='recall')\nprint(\"Recall: \",scores.mean())\n\nscores = cross_val_score(lda, X_train, Y_train, cv=10, scoring='roc_auc')\nprint(\"Roc_auc: \",scores.mean())",
   "execution_count": 9,
   "outputs": [
    {
     "name": "stdout",
     "text": "Accuracy:  0.8442876254180602\nRecall:  0.09209065679925994\nRoc_auc:  0.7222983999561692\n",
     "output_type": "stream"
    }
   ]
  },
  {
   "cell_type": "markdown",
   "source": "### LDA Model Adjustement",
   "metadata": {
    "cell_id": "8324ea92ca984d6e9c76630b74e1e8dc",
    "tags": [],
    "deepnote_cell_type": "markdown",
    "deepnote_cell_height": 62
   }
  },
  {
   "cell_type": "code",
   "metadata": {
    "cell_id": "1b71bdd088dc4bb790536bf782d2f2d1",
    "tags": [],
    "deepnote_to_be_reexecuted": false,
    "source_hash": "d1819a82",
    "execution_start": 1648671060326,
    "execution_millis": 35585,
    "deepnote_cell_type": "code",
    "deepnote_cell_height": 342
   },
   "source": "parameters = {'shrinkage' : np.arange(0, 1, 0.01)}\n\n#Linear Discriminant Analyisis model\nlda = LinearDiscriminantAnalysis(solver='lsqr')\n\n# Grid search \ngrid = GridSearchCV(lda, parameters, cv=10, scoring='roc_auc')\ngrid.fit( X_train, Y_train)\n\n# Best estimators\nprint(\"Best LDA shrinkage parameter: \",grid.best_estimator_)\nprint('Best LDA ROC_AUC score: %.3f' % np.abs(grid.best_score_))",
   "execution_count": 10,
   "outputs": [
    {
     "name": "stdout",
     "text": "Best LDA shrinkage parameter:  LinearDiscriminantAnalysis(shrinkage=0.0, solver='lsqr')\nBest LDA ROC_AUC score: 0.722\n",
     "output_type": "stream"
    }
   ]
  },
  {
   "cell_type": "markdown",
   "source": "### LDA model Testing",
   "metadata": {
    "cell_id": "bf0c1e7d36ae492e81966f17032ddcc6",
    "tags": [],
    "deepnote_cell_type": "markdown",
    "deepnote_cell_height": 62
   }
  },
  {
   "cell_type": "code",
   "metadata": {
    "cell_id": "f5ef3c7633a64bac9ed426c0b7426774",
    "tags": [],
    "deepnote_to_be_reexecuted": false,
    "source_hash": "57260bb0",
    "execution_start": 1648671095917,
    "execution_millis": 543,
    "deepnote_cell_type": "code",
    "deepnote_cell_height": 485,
    "deepnote_output_heights": [
     21,
     264
    ]
   },
   "source": "lda = LinearDiscriminantAnalysis(solver='lsqr')\nlda.fit(X_train,Y_train)\n\nRocCurveDisplay.from_estimator(lda, X_test, Y_test)\nplt.plot([0, 1], [0, 1], color=\"red\", linestyle=\"--\")",
   "execution_count": 11,
   "outputs": [
    {
     "output_type": "execute_result",
     "execution_count": 11,
     "data": {
      "text/plain": "[<matplotlib.lines.Line2D at 0x7fe7a8a49910>]"
     },
     "metadata": {}
    },
    {
     "data": {
      "text/plain": "<Figure size 432x288 with 1 Axes>",
      "image/png": "[encoded data removed]"
     },
     "metadata": {
      "needs_background": "light",
      "image/png": {
       "width": 386,
       "height": 262
      }
     },
     "output_type": "display_data"
    }
   ]
  },
  {
   "cell_type": "markdown",
   "source": "## Quadratic Discriminant Analysis",
   "metadata": {
    "cell_id": "deb043fdeac74535a670c1a8299e1e47",
    "tags": [],
    "deepnote_cell_type": "markdown",
    "deepnote_cell_height": 70
   }
  },
  {
   "cell_type": "markdown",
   "source": "As we discussed, LDA assumes that the observations within each class are drawn from a multivariate Gaussian distribution with a class-specific mean vector $\\mu_k$ and a covariance matrix $\\Sigma$ that is common to all K classes. However, Quadratic Discriminant Analysis (QDA) provides a different approach. QDA also assumes that observations within a specific class are drawn from a multivariate Gaussian distribution and uses estimates for the paramters to perform a prediction using Bayes' theorem. However, QDA assumes that each class has its own covariance matrix $\\Sigma_k$. Therefore, an observation from the $k^{th}$ class is of the form $X\\sim N(\\mu_k,\\Sigma_k)$ , where $\\Sigma_k$ is a covariance matrix specific for the observations that come from the $k^{th}$ class. Under this assumption, the discriminant function is given as: <center> $\\delta_k(x) = -\\frac{1}{2}(x-\\mu_k)^T\\Sigma^{-1}_k(x-\\mu_k)-\\frac{1}{2}\\log|\\Sigma_k|+\\log(\\pi_k)$ </center> <center> $= -\\frac{1}{2}x^T\\Sigma^{-1}_kx + x^T\\Sigma^{-1}_k\\mu_k -\\frac{1}{2}\\mu_k^T\\Sigma^{-1}_k\\mu_k -\\frac{1}{2}\\log|\\Sigma_k|+\\log(\\pi_k)$ </center>  \n\nThe QDA will then classify the observation x as coming from the class for which $\\delta(x)$ is higher. When plugging estimates for $\\mu_k$, $\\Sigma_k$ and $\\pi_k$ in $\\delta(x)$, predictions can be done. This discriminant function is quadratic function in $x$ and that is why this method is called quadratic discriminant analysis. ",
   "metadata": {
    "cell_id": "6b28b2c5fbe34463be9373b433fd1bff",
    "tags": [],
    "deepnote_cell_type": "markdown",
    "deepnote_cell_height": 259.515625
   }
  },
  {
   "cell_type": "markdown",
   "source": "### Difference between LDA and QDA\n\nAs LDA assumes there is a common covariance matrix for all of the $K$ classes, the LDA model has less parameters to estimate in order to make a prediction. When there are $m$ predictors, then to estimate the covariance matrix there are $m(m+1)/2$ estimates to be calculated. Hence, QDA has to calculate $Km(m+1)/2$ values to estimate all of the $K$ covariance matrices. Then, the difference in the performance for LDA and QDA models lies in the bias-variance trade-off. As LDA has less estimates to calculate, it is less flexible than QDA, but LDA has a much lower variance. This can potentially lead to improved prediction performance. But there is a trade-off: if LDA’s assumption that the K classes share a common covariance matrix is badly off, then LDA can suffer from high bias. Roughly speaking, LDA tends to be a better bet than QDA if there are relatively few training observations and so reducing variance is crucial. In contrast, QDA is recommended if the training set is very large, so that the variance of the classifier is not a major concern, or if the assumption of a common covariance matrix for the K classes is clearly untrue.\n\n <figure>\n<img src=\"/work/indu5012_case_15/fig/LDA_QDA.PNG\" align=\"center\"/> \n\n<figcaption align = \"center\"><b>Fig. 7.4 - Graphic representation of LDA and QDA classifiers for a two-class classification problem. The dotted black line represents the LDA's decision boundary, the green line represents the QDA's decision boundary and the purple dashed line represents the Bayes' decision boundary. On the left hand panel, both of the classes share the same covariance matrix and on the right hand panel both of the classes have different covariance matrices. </b>.<i>Taken from (James, G., Witten, D., Hastie, T., & Tibshirani, R. (2013))</i></figcaption>\n\n</figure>",
   "metadata": {
    "cell_id": "905ef5f7f6c44bfb8698527126901b75",
    "tags": [],
    "deepnote_cell_type": "markdown",
    "deepnote_cell_height": 916.515625
   }
  },
  {
   "cell_type": "markdown",
   "source": "### QDA Model Definition and fitting",
   "metadata": {
    "cell_id": "f894a519bbeb4548bc901ad79143c511",
    "tags": [],
    "deepnote_cell_type": "markdown",
    "deepnote_cell_height": 62
   }
  },
  {
   "cell_type": "code",
   "metadata": {
    "cell_id": "f9914941461f44338c55e5b34f25deac",
    "tags": [],
    "deepnote_to_be_reexecuted": false,
    "source_hash": "fe311b35",
    "execution_start": 1648671096423,
    "execution_millis": 1,
    "deepnote_cell_type": "code",
    "deepnote_cell_height": 153
   },
   "source": "#Defining model\nqda = QuadraticDiscriminantAnalysis()\n\n#Fitting model\nqda_res = qda.fit(X_train, Y_train)",
   "execution_count": 12,
   "outputs": []
  },
  {
   "cell_type": "markdown",
   "source": "### QDA Model Validation",
   "metadata": {
    "cell_id": "283c0bc184b1479cb2b2a5fb47d6151f",
    "tags": [],
    "deepnote_cell_type": "markdown",
    "deepnote_cell_height": 62
   }
  },
  {
   "cell_type": "code",
   "metadata": {
    "cell_id": "c12162e505634c73b9fd691c790b345d",
    "tags": [],
    "deepnote_to_be_reexecuted": false,
    "source_hash": "d88343f6",
    "execution_start": 1648671096462,
    "execution_millis": 847,
    "deepnote_cell_type": "code",
    "deepnote_cell_height": 296.5625
   },
   "source": "#Obtaining scores from the model\nscores = cross_val_score(qda, X_train, Y_train, cv=10, scoring='accuracy')\nprint(\"Accuracy: \",scores.mean())\n\nscores = cross_val_score(qda, X_train, Y_train, cv=10, scoring='recall')\nprint(\"Recall: \",scores.mean())\n\nscores = cross_val_score(qda, X_train, Y_train, cv=10, scoring='roc_auc')\nprint(\"Roc_auc: \",scores.mean())",
   "execution_count": 13,
   "outputs": [
    {
     "name": "stdout",
     "text": "Accuracy:  0.82661872909699\nRecall:  0.19014801110083254\nRoc_auc:  0.7065409971338713\n",
     "output_type": "stream"
    }
   ]
  },
  {
   "cell_type": "markdown",
   "source": "### QDA Model Adjustement",
   "metadata": {
    "cell_id": "112c9fc8c0134dfe96284219fdc66bc8",
    "tags": [],
    "deepnote_cell_type": "markdown",
    "deepnote_cell_height": 62
   }
  },
  {
   "cell_type": "code",
   "metadata": {
    "cell_id": "c826733fc9a1442fbccfc32a26dea004",
    "tags": [],
    "deepnote_to_be_reexecuted": false,
    "source_hash": "eadc4582",
    "execution_start": 1648671097330,
    "execution_millis": 43824,
    "deepnote_cell_type": "code",
    "deepnote_cell_height": 366.375
   },
   "source": "#Parameters list\nparameters = {\n    'reg_param': np.arange(0, 1, 0.01), \n                   }\n\n#Quadratic Discriminant Analyisis model\nqda = QuadraticDiscriminantAnalysis()\n\ngrid = GridSearchCV(qda, parameters, cv=10, scoring='roc_auc')\ngrid.fit(X_train, Y_train)\n\n# Best estimators\nprint(\"Best QDA parameters: \",grid.best_estimator_)\nprint('Best QDA ROC_AUC score: %.3f' % np.abs(grid.best_score_))",
   "execution_count": 14,
   "outputs": [
    {
     "name": "stdout",
     "text": "Best QDA parameters:  QuadraticDiscriminantAnalysis(reg_param=0.05)\nBest QDA ROC_AUC score: 0.709\n",
     "output_type": "stream"
    }
   ]
  },
  {
   "cell_type": "markdown",
   "source": "### QDA model Testing",
   "metadata": {
    "cell_id": "2dd09a6829f44c48a8f1d8edb6433b47",
    "tags": [],
    "deepnote_cell_type": "markdown",
    "deepnote_cell_height": 62
   }
  },
  {
   "cell_type": "code",
   "metadata": {
    "cell_id": "ce62b8c1c8ed491d8c4f24eb72b34c5a",
    "tags": [],
    "deepnote_to_be_reexecuted": false,
    "source_hash": "2aa216d7",
    "execution_start": 1648671141153,
    "execution_millis": 544,
    "deepnote_cell_type": "code",
    "deepnote_cell_height": 485,
    "deepnote_output_heights": [
     21,
     264
    ]
   },
   "source": "qda = QuadraticDiscriminantAnalysis(reg_param = 0.22)\nqda_res = qda.fit(X_train, Y_train)\n\nRocCurveDisplay.from_estimator(qda, X_test, Y_test)\nplt.plot([0, 1], [0, 1], color=\"red\", linestyle=\"--\")",
   "execution_count": 15,
   "outputs": [
    {
     "output_type": "execute_result",
     "execution_count": 15,
     "data": {
      "text/plain": "[<matplotlib.lines.Line2D at 0x7fe7a89aa590>]"
     },
     "metadata": {}
    },
    {
     "data": {
      "text/plain": "<Figure size 432x288 with 1 Axes>",
      "image/png": "[encoded data removed]"
     },
     "metadata": {
      "needs_background": "light",
      "image/png": {
       "width": 386,
       "height": 262
      }
     },
     "output_type": "display_data"
    }
   ]
  },
  {
   "cell_type": "code",
   "source": "fig, ax = plt.subplots()\nRocCurveDisplay.from_estimator(qda, X_test, Y_test, ax=ax)\nRocCurveDisplay.from_estimator(lda, X_test, Y_test,ax=ax)\nplt.plot([0, 1], [0, 1], color=\"red\", linestyle=\"--\")\n\nfig.show()\n",
   "metadata": {
    "cell_id": "0d81ffbcbe0043d3b1c29a54d9c63fc2",
    "tags": [],
    "deepnote_to_be_reexecuted": false,
    "source_hash": "167a8dbf",
    "execution_start": 1648671560101,
    "execution_millis": 581,
    "deepnote_cell_type": "code",
    "deepnote_cell_height": 816,
    "deepnote_output_heights": [
     21,
     264,
     264
    ]
   },
   "outputs": [
    {
     "data": {
      "text/plain": "<Figure size 432x288 with 1 Axes>",
      "image/png": "[encoded data removed]"
     },
     "metadata": {
      "needs_background": "light",
      "image/png": {
       "width": 386,
       "height": 262
      }
     },
     "output_type": "display_data"
    }
   ],
   "execution_count": 18
  },
  {
   "cell_type": "markdown",
   "source": "<a style='text-decoration:none;line-height:16px;display:flex;color:#5B5B62;padding:10px;justify-content:end;' href='https://deepnote.com?utm_source=created-in-deepnote-cell&projectId=96262903-a28f-4719-a328-dc59e3cfa77f' target=\"_blank\">\n<img alt='Created in deepnote.com' style='display:inline;max-height:16px;margin:0px;margin-right:7.5px;' src='data:image/svg+xml;base64,PD94bWwgdmVyc2lvbj0iMS4wIiBlbmNvZGluZz0iVVRGLTgiPz4KPHN2ZyB3aWR0aD0iODBweCIgaGVpZ2h0PSI4MHB4IiB2aWV3Qm94PSIwIDAgODAgODAiIHZlcnNpb249IjEuMSIgeG1sbnM9Imh0dHA6Ly93d3cudzMub3JnLzIwMDAvc3ZnIiB4bWxuczp4bGluaz0iaHR0cDovL3d3dy53My5vcmcvMTk5OS94bGluayI+CiAgICA8IS0tIEdlbmVyYXRvcjogU2tldGNoIDU0LjEgKDc2NDkwKSAtIGh0dHBzOi8vc2tldGNoYXBwLmNvbSAtLT4KICAgIDx0aXRsZT5Hcm91cCAzPC90aXRsZT4KICAgIDxkZXNjPkNyZWF0ZWQgd2l0aCBTa2V0Y2guPC9kZXNjPgogICAgPGcgaWQ9IkxhbmRpbmciIHN0cm9rZT0ibm9uZSIgc3Ryb2tlLXdpZHRoPSIxIiBmaWxsPSJub25lIiBmaWxsLXJ1bGU9ImV2ZW5vZGQiPgogICAgICAgIDxnIGlkPSJBcnRib2FyZCIgdHJhbnNmb3JtPSJ0cmFuc2xhdGUoLTEyMzUuMDAwMDAwLCAtNzkuMDAwMDAwKSI+CiAgICAgICAgICAgIDxnIGlkPSJHcm91cC0zIiB0cmFuc2Zvcm09InRyYW5zbGF0ZSgxMjM1LjAwMDAwMCwgNzkuMDAwMDAwKSI+CiAgICAgICAgICAgICAgICA8cG9seWdvbiBpZD0iUGF0aC0yMCIgZmlsbD0iIzAyNjVCNCIgcG9pbnRzPSIyLjM3NjIzNzYyIDgwIDM4LjA0NzY2NjcgODAgNTcuODIxNzgyMiA3My44MDU3NTkyIDU3LjgyMTc4MjIgMzIuNzU5MjczOSAzOS4xNDAyMjc4IDMxLjY4MzE2ODMiPjwvcG9seWdvbj4KICAgICAgICAgICAgICAgIDxwYXRoIGQ9Ik0zNS4wMDc3MTgsODAgQzQyLjkwNjIwMDcsNzYuNDU0OTM1OCA0Ny41NjQ5MTY3LDcxLjU0MjI2NzEgNDguOTgzODY2LDY1LjI2MTk5MzkgQzUxLjExMjI4OTksNTUuODQxNTg0MiA0MS42NzcxNzk1LDQ5LjIxMjIyODQgMjUuNjIzOTg0Niw0OS4yMTIyMjg0IEMyNS40ODQ5Mjg5LDQ5LjEyNjg0NDggMjkuODI2MTI5Niw0My4yODM4MjQ4IDM4LjY0NzU4NjksMzEuNjgzMTY4MyBMNzIuODcxMjg3MSwzMi41NTQ0MjUgTDY1LjI4MDk3Myw2Ny42NzYzNDIxIEw1MS4xMTIyODk5LDc3LjM3NjE0NCBMMzUuMDA3NzE4LDgwIFoiIGlkPSJQYXRoLTIyIiBmaWxsPSIjMDAyODY4Ij48L3BhdGg+CiAgICAgICAgICAgICAgICA8cGF0aCBkPSJNMCwzNy43MzA0NDA1IEwyNy4xMTQ1MzcsMC4yNTcxMTE0MzYgQzYyLjM3MTUxMjMsLTEuOTkwNzE3MDEgODAsMTAuNTAwMzkyNyA4MCwzNy43MzA0NDA1IEM4MCw2NC45NjA0ODgyIDY0Ljc3NjUwMzgsNzkuMDUwMzQxNCAzNC4zMjk1MTEzLDgwIEM0Ny4wNTUzNDg5LDc3LjU2NzA4MDggNTMuNDE4MjY3Nyw3MC4zMTM2MTAzIDUzLjQxODI2NzcsNTguMjM5NTg4NSBDNTMuNDE4MjY3Nyw0MC4xMjg1NTU3IDM2LjMwMzk1NDQsMzcuNzMwNDQwNSAyNS4yMjc0MTcsMzcuNzMwNDQwNSBDMTcuODQzMDU4NiwzNy43MzA0NDA1IDkuNDMzOTE5NjYsMzcuNzMwNDQwNSAwLDM3LjczMDQ0MDUgWiIgaWQ9IlBhdGgtMTkiIGZpbGw9IiMzNzkzRUYiPjwvcGF0aD4KICAgICAgICAgICAgPC9nPgogICAgICAgIDwvZz4KICAgIDwvZz4KPC9zdmc+' > </img>\nCreated in <span style='font-weight:600;margin-left:4px;'>Deepnote</span></a>",
   "metadata": {
    "tags": [],
    "created_in_deepnote_cell": true,
    "deepnote_cell_type": "markdown"
   }
  }
 ],
 "nbformat": 4,
 "nbformat_minor": 2,
 "metadata": {
  "orig_nbformat": 2,
  "deepnote": {
   "is_reactive": false
  },
  "deepnote_notebook_id": "44ece1cf-0945-4e5f-82b1-396000ec68c5",
  "deepnote_execution_queue": []
 }
}